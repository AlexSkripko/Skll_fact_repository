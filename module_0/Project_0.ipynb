{
 "cells": [
  {
   "cell_type": "code",
   "execution_count": 1,
   "metadata": {},
   "outputs": [
    {
     "name": "stdout",
     "output_type": "stream",
     "text": [
      "Загадано число от 1 до 100\n",
      "10\n",
      "Угадываемое число больше 10 \n",
      "50\n",
      "Угадываемое число меньше 50 \n",
      "40\n",
      "Вы угадали число 40 за 3 попыток.\n"
     ]
    }
   ],
   "source": [
    "import numpy as np\n",
    "count = 0                            # счетчик попыток\n",
    "number = np.random.randint(1,101)    # загадали число\n",
    "print (\"Загадано число от 1 до 100\")\n",
    "\n",
    "while True:                        # бесконечный цикл\n",
    "    predict = int(input())         # предполагаемое число\n",
    "    count += 1                     # плюсуем попытку\n",
    "    if number == predict: break    # выход из цикла, если угадали\n",
    "    elif number > predict: print (f\"Угадываемое число больше {predict} \")\n",
    "    elif number < predict: print (f\"Угадываемое число меньше {predict} \")\n",
    "        \n",
    "print (f\"Вы угадали число {number} за {count} попыток.\")"
   ]
  },
  {
   "cell_type": "code",
   "execution_count": 2,
   "metadata": {},
   "outputs": [
    {
     "ename": "IndentationError",
     "evalue": "unexpected indent (<ipython-input-2-18d7d36d706f>, line 4)",
     "output_type": "error",
     "traceback": [
      "\u001b[1;36m  File \u001b[1;32m\"<ipython-input-2-18d7d36d706f>\"\u001b[1;36m, line \u001b[1;32m4\u001b[0m\n\u001b[1;33m    count = 1\u001b[0m\n\u001b[1;37m    ^\u001b[0m\n\u001b[1;31mIndentationError\u001b[0m\u001b[1;31m:\u001b[0m unexpected indent\n"
     ]
    }
   ],
   "source": [
    "def game_core_v2(number):\n",
    "    '''Сначала устанавливаем любое random число, а потом уменьшаем или увеличиваем его в зависимости от того, больше оно или меньше нужного.\n",
    "       Функция принимает загаданное число и возвращает число попыток'''\n",
    "     count = 1\n",
    "    predict = np.random.randint(1,101)\n",
    "    while number != predict:\n",
    "        count+=1\n",
    "        if number > predict: \n",
    "            predict += 1\n",
    "        elif number < predict: \n",
    "            predict -= 1\n",
    "    return(count) # выход из цикла, если угадали"
   ]
  },
  {
   "cell_type": "code",
   "execution_count": 3,
   "metadata": {},
   "outputs": [
    {
     "ename": "NameError",
     "evalue": "name 'score_game' is not defined",
     "output_type": "error",
     "traceback": [
      "\u001b[1;31m---------------------------------------------------------------------------\u001b[0m",
      "\u001b[1;31mNameError\u001b[0m                                 Traceback (most recent call last)",
      "\u001b[1;32m<ipython-input-3-906fa30c6c72>\u001b[0m in \u001b[0;36m<module>\u001b[1;34m\u001b[0m\n\u001b[1;32m----> 1\u001b[1;33m \u001b[0mscore_game\u001b[0m\u001b[1;33m(\u001b[0m\u001b[0mgame_core_v2\u001b[0m\u001b[1;33m)\u001b[0m\u001b[1;33m\u001b[0m\u001b[1;33m\u001b[0m\u001b[0m\n\u001b[0m",
      "\u001b[1;31mNameError\u001b[0m: name 'score_game' is not defined"
     ]
    }
   ],
   "source": [
    "score_game(game_core_v2)"
   ]
  },
  {
   "cell_type": "code",
   "execution_count": null,
   "metadata": {},
   "outputs": [],
   "source": []
  }
 ],
 "metadata": {
  "kernelspec": {
   "display_name": "Python 3",
   "language": "python",
   "name": "python3"
  },
  "language_info": {
   "codemirror_mode": {
    "name": "ipython",
    "version": 3
   },
   "file_extension": ".py",
   "mimetype": "text/x-python",
   "name": "python",
   "nbconvert_exporter": "python",
   "pygments_lexer": "ipython3",
   "version": "3.7.3"
  }
 },
 "nbformat": 4,
 "nbformat_minor": 2
}
